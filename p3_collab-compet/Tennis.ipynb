{
 "cells": [
  {
   "cell_type": "markdown",
   "metadata": {},
   "source": [
    "# Collaboration and Competition\n",
    "\n",
    "---\n",
    "\n",
    "In this notebook, you will learn how to use the Unity ML-Agents environment for the third project of the [Deep Reinforcement Learning Nanodegree](https://www.udacity.com/course/deep-reinforcement-learning-nanodegree--nd893) program.\n",
    "\n",
    "### 1. Start the Environment\n",
    "\n",
    "We begin by importing the necessary packages.  If the code cell below returns an error, please revisit the project instructions to double-check that you have installed [Unity ML-Agents](https://github.com/Unity-Technologies/ml-agents/blob/master/docs/Installation.md) and [NumPy](http://www.numpy.org/)."
   ]
  },
  {
   "cell_type": "code",
   "execution_count": 1,
   "metadata": {},
   "outputs": [],
   "source": [
    "from unityagents import UnityEnvironment\n",
    "import numpy as np"
   ]
  },
  {
   "cell_type": "markdown",
   "metadata": {},
   "source": [
    "Next, we will start the environment!  **_Before running the code cell below_**, change the `file_name` parameter to match the location of the Unity environment that you downloaded.\n",
    "\n",
    "- **Mac**: `\"path/to/Tennis.app\"`\n",
    "- **Windows** (x86): `\"path/to/Tennis_Windows_x86/Tennis.exe\"`\n",
    "- **Windows** (x86_64): `\"path/to/Tennis_Windows_x86_64/Tennis.exe\"`\n",
    "- **Linux** (x86): `\"path/to/Tennis_Linux/Tennis.x86\"`\n",
    "- **Linux** (x86_64): `\"path/to/Tennis_Linux/Tennis.x86_64\"`\n",
    "- **Linux** (x86, headless): `\"path/to/Tennis_Linux_NoVis/Tennis.x86\"`\n",
    "- **Linux** (x86_64, headless): `\"path/to/Tennis_Linux_NoVis/Tennis.x86_64\"`\n",
    "\n",
    "For instance, if you are using a Mac, then you downloaded `Tennis.app`.  If this file is in the same folder as the notebook, then the line below should appear as follows:\n",
    "```\n",
    "env = UnityEnvironment(file_name=\"Tennis.app\")\n",
    "```"
   ]
  },
  {
   "cell_type": "code",
   "execution_count": 2,
   "metadata": {},
   "outputs": [
    {
     "name": "stderr",
     "output_type": "stream",
     "text": [
      "INFO:unityagents:\n",
      "'Academy' started successfully!\n",
      "Unity Academy name: Academy\n",
      "        Number of Brains: 1\n",
      "        Number of External Brains : 1\n",
      "        Lesson number : 0\n",
      "        Reset Parameters :\n",
      "\t\t\n",
      "Unity brain name: TennisBrain\n",
      "        Number of Visual Observations (per agent): 0\n",
      "        Vector Observation space type: continuous\n",
      "        Vector Observation space size (per agent): 8\n",
      "        Number of stacked Vector Observation: 3\n",
      "        Vector Action space type: continuous\n",
      "        Vector Action space size (per agent): 2\n",
      "        Vector Action descriptions: , \n"
     ]
    }
   ],
   "source": [
    "env = UnityEnvironment(file_name=\"Tennis_Linux/Tennis.x86_64\")"
   ]
  },
  {
   "cell_type": "markdown",
   "metadata": {},
   "source": [
    "Environments contain **_brains_** which are responsible for deciding the actions of their associated agents. Here we check for the first brain available, and set it as the default brain we will be controlling from Python."
   ]
  },
  {
   "cell_type": "code",
   "execution_count": 3,
   "metadata": {},
   "outputs": [],
   "source": [
    "# get the default brain\n",
    "brain_name = env.brain_names[0]\n",
    "brain = env.brains[brain_name]"
   ]
  },
  {
   "cell_type": "markdown",
   "metadata": {},
   "source": [
    "### 2. Examine the State and Action Spaces\n",
    "\n",
    "In this environment, two agents control rackets to bounce a ball over a net. If an agent hits the ball over the net, it receives a reward of +0.1.  If an agent lets a ball hit the ground or hits the ball out of bounds, it receives a reward of -0.01.  Thus, the goal of each agent is to keep the ball in play.\n",
    "\n",
    "The observation space consists of 8 variables corresponding to the position and velocity of the ball and racket. Two continuous actions are available, corresponding to movement toward (or away from) the net, and jumping. \n",
    "\n",
    "Run the code cell below to print some information about the environment."
   ]
  },
  {
   "cell_type": "code",
   "execution_count": 4,
   "metadata": {},
   "outputs": [
    {
     "name": "stdout",
     "output_type": "stream",
     "text": [
      "Number of agents: 2\n",
      "Size of each action: 2\n",
      "There are 2 agents. Each observes a state with length: 24\n",
      "The state for the first agent looks like: [ 0.          0.          0.          0.          0.          0.\n",
      "  0.          0.          0.          0.          0.          0.\n",
      "  0.          0.          0.          0.         -6.65278625 -1.5\n",
      " -0.          0.          6.83172083  6.         -0.          0.        ]\n"
     ]
    }
   ],
   "source": [
    "# reset the environment\n",
    "env_info = env.reset(train_mode=True)[brain_name]\n",
    "\n",
    "# number of agents \n",
    "num_agents = len(env_info.agents)\n",
    "print('Number of agents:', num_agents)\n",
    "\n",
    "# size of each action\n",
    "action_size = brain.vector_action_space_size\n",
    "print('Size of each action:', action_size)\n",
    "\n",
    "# examine the state space \n",
    "states = env_info.vector_observations\n",
    "state_size = states.shape[1]\n",
    "print('There are {} agents. Each observes a state with length: {}'.format(states.shape[0], state_size))\n",
    "print('The state for the first agent looks like:', states[0])"
   ]
  },
  {
   "cell_type": "markdown",
   "metadata": {},
   "source": [
    "### 3. Take Random Actions in the Environment\n",
    "\n",
    "In the next code cell, you will learn how to use the Python API to control the agents and receive feedback from the environment.\n",
    "\n",
    "Once this cell is executed, you will watch the agents' performance, if they select actions at random with each time step.  A window should pop up that allows you to observe the agents.\n",
    "\n",
    "Of course, as part of the project, you'll have to change the code so that the agents are able to use their experiences to gradually choose better actions when interacting with the environment!"
   ]
  },
  {
   "cell_type": "code",
   "execution_count": 5,
   "metadata": {},
   "outputs": [
    {
     "name": "stdout",
     "output_type": "stream",
     "text": [
      "Score (max over agents) from episode 1: 0.0\n",
      "Score (max over agents) from episode 2: 0.0\n",
      "Score (max over agents) from episode 3: 0.0\n",
      "Score (max over agents) from episode 4: 0.0\n",
      "Score (max over agents) from episode 5: 0.09000000171363354\n"
     ]
    }
   ],
   "source": [
    "for i in range(1, 6):                                      # play game for 5 episodes\n",
    "    env_info = env.reset(train_mode=False)[brain_name]     # reset the environment    \n",
    "    states = env_info.vector_observations                  # get the current state (for each agent)\n",
    "    scores = np.zeros(num_agents)                          # initialize the score (for each agent)\n",
    "    while True:\n",
    "        actions = np.random.randn(num_agents, action_size) # select an action (for each agent)\n",
    "        actions = np.clip(actions, -1, 1)                  # all actions between -1 and 1\n",
    "        env_info = env.step(actions)[brain_name]           # send all actions to tne environment\n",
    "        next_states = env_info.vector_observations         # get next state (for each agent)\n",
    "        rewards = env_info.rewards                         # get reward (for each agent)\n",
    "        dones = env_info.local_done                        # see if episode finished\n",
    "        scores += env_info.rewards                         # update the score (for each agent)\n",
    "        states = next_states                               # roll over states to next time step\n",
    "        if np.any(dones):                                  # exit loop if episode finished\n",
    "            break\n",
    "    print('Score (max over agents) from episode {}: {}'.format(i, np.max(scores)))"
   ]
  },
  {
   "cell_type": "markdown",
   "metadata": {},
   "source": [
    "When finished, you can close the environment."
   ]
  },
  {
   "cell_type": "code",
   "execution_count": 6,
   "metadata": {},
   "outputs": [],
   "source": [
    "#env.close()"
   ]
  },
  {
   "cell_type": "markdown",
   "metadata": {},
   "source": [
    "### 4. It's Your Turn!\n",
    "\n",
    "Now it's your turn to train your own agent to solve the environment!  When training the environment, set `train_mode=True`, so that the line for resetting the environment looks like the following:\n",
    "```python\n",
    "env_info = env.reset(train_mode=True)[brain_name]\n",
    "```"
   ]
  },
  {
   "cell_type": "code",
   "execution_count": 7,
   "metadata": {},
   "outputs": [],
   "source": [
    "from collections import deque\n",
    "import time\n",
    "import torch\n",
    "import torch.nn as nn\n",
    "import torch.optim as optim\n",
    "import matplotlib.pyplot as plt\n",
    "from typing import NamedTuple\n",
    "\n",
    "\n",
    "from model import Actor, Critic\n",
    "from agent import Agent\n"
   ]
  },
  {
   "cell_type": "code",
   "execution_count": 8,
   "metadata": {},
   "outputs": [],
   "source": [
    "class Config(NamedTuple):\n",
    "    num_workers: int = 2\n",
    "    episode_count: int = 10000\n",
    "    buffer_size = int(1e5)  \n",
    "    mini_batch_size: int = 1024\n",
    "        \n",
    "class DeviceConfig:\n",
    "    DEVICE = torch.device('cpu')"
   ]
  },
  {
   "cell_type": "code",
   "execution_count": 9,
   "metadata": {},
   "outputs": [],
   "source": [
    "device = torch.device(\"cuda:0\" if torch.cuda.is_available() else \"cpu\")\n",
    "DeviceConfig.device = device"
   ]
  },
  {
   "cell_type": "code",
   "execution_count": 10,
   "metadata": {},
   "outputs": [],
   "source": [
    "config = Config(num_workers=num_agents)"
   ]
  },
  {
   "cell_type": "code",
   "execution_count": 11,
   "metadata": {},
   "outputs": [],
   "source": [
    "def run(env, agent, max_step=10000, train_mode=True):\n",
    "    env_info = env.reset(train_mode=train_mode)[brain_name]\n",
    "    states = env_info.vector_observations\n",
    "    scores = np.zeros(num_agents)\n",
    "\n",
    "    for t in range(max_step): \n",
    "        actions = agent.act(states)\n",
    "        env_info = env.step(actions)[brain_name]\n",
    "        next_states = env_info.vector_observations \n",
    "        rewards = env_info.rewards\n",
    "        dones = env_info.local_done\n",
    "        if train_mode:\n",
    "            agent.step(states, actions, rewards, next_states, dones)\n",
    "\n",
    "        states = next_states\n",
    "        scores += rewards \n",
    "        if np.any(dones):\n",
    "            break\n",
    "\n",
    "    return np.mean(scores)\n",
    "    \n",
    "    \n",
    "def ddpg(agent, train_mode=True):\n",
    "    scores_window = deque(maxlen=100)\n",
    "    scores = []\n",
    "        \n",
    "    for i in range(1, config.episode_count+1):\n",
    "        begin = time.time()\n",
    "        score = run(env=env, agent=agent, train_mode=train_mode)\n",
    "        scores_window.append(score)\n",
    "        score_average = np.mean(scores_window)\n",
    "        scores.append(score)\n",
    "        \n",
    "        if i % 50 == 0:\n",
    "            print('\\rEpisode {} Average score: {:.2f} Min: {:.2f} Max: {:.2f} Time: {:.2f} Epsilon: {:.2f}'.format(\n",
    "                i, \n",
    "                score_average, \n",
    "                np.min(scores), \n",
    "                np.max(scores), \n",
    "                time.time() - begin,\n",
    "                agent.epsilon\n",
    "            ))        \n",
    "                    \n",
    "        if score_average >= 0.5:\n",
    "            torch.save(agent.actor_local.state_dict(), 'checkpoint_actor.pth')\n",
    "            torch.save(agent.critic_local.state_dict(), 'checkpoint_critic.pth')\n",
    "            print('\\nSolve in {:d} episodes. Average score: {:.2f}'.format(i, score_average))            \n",
    "            break            \n",
    "            \n",
    "    return scores"
   ]
  },
  {
   "cell_type": "code",
   "execution_count": 12,
   "metadata": {
    "scrolled": false
   },
   "outputs": [
    {
     "name": "stderr",
     "output_type": "stream",
     "text": [
      "/home/oasilisk/.local/lib/python3.6/site-packages/torch/nn/functional.py:1558: UserWarning: nn.functional.tanh is deprecated. Use torch.tanh instead.\n",
      "  warnings.warn(\"nn.functional.tanh is deprecated. Use torch.tanh instead.\")\n"
     ]
    },
    {
     "name": "stdout",
     "output_type": "stream",
     "text": [
      "Episode 50 Average score: 0.00 Min: -0.00 Max: 0.05 Time: 0.12 Epsilon: 1.00\n",
      "Episode 100 Average score: -0.00 Min: -0.00 Max: 0.05 Time: 0.13 Epsilon: 1.00\n",
      "Episode 150 Average score: -0.00 Min: -0.00 Max: 0.05 Time: 0.12 Epsilon: 1.00\n",
      "Episode 200 Average score: -0.00 Min: -0.00 Max: 0.05 Time: 0.13 Epsilon: 1.00\n",
      "Episode 250 Average score: 0.01 Min: -0.00 Max: 0.10 Time: 0.13 Epsilon: 1.00\n",
      "Episode 300 Average score: 0.01 Min: -0.00 Max: 0.20 Time: 2.05 Epsilon: 1.00\n",
      "Episode 350 Average score: 0.01 Min: -0.00 Max: 0.20 Time: 0.60 Epsilon: 1.00\n",
      "Episode 400 Average score: 0.02 Min: -0.00 Max: 0.20 Time: 0.13 Epsilon: 1.00\n",
      "Episode 450 Average score: 0.01 Min: -0.00 Max: 0.20 Time: 0.24 Epsilon: 1.00\n",
      "Episode 500 Average score: -0.00 Min: -0.00 Max: 0.20 Time: 0.13 Epsilon: 1.00\n",
      "Episode 550 Average score: -0.00 Min: -0.00 Max: 0.20 Time: 0.13 Epsilon: 1.00\n",
      "Episode 600 Average score: -0.00 Min: -0.00 Max: 0.20 Time: 0.13 Epsilon: 1.00\n",
      "Episode 650 Average score: 0.00 Min: -0.00 Max: 0.20 Time: 0.13 Epsilon: 1.00\n",
      "Episode 700 Average score: 0.01 Min: -0.00 Max: 0.20 Time: 1.18 Epsilon: 1.00\n",
      "Episode 750 Average score: 0.03 Min: -0.00 Max: 0.20 Time: 0.90 Epsilon: 1.00\n",
      "Episode 800 Average score: 0.02 Min: -0.00 Max: 0.20 Time: 0.25 Epsilon: 1.00\n",
      "Episode 850 Average score: 0.02 Min: -0.00 Max: 0.20 Time: 0.77 Epsilon: 1.00\n",
      "Episode 900 Average score: 0.01 Min: -0.00 Max: 0.20 Time: 1.08 Epsilon: 1.00\n",
      "Episode 950 Average score: 0.02 Min: -0.00 Max: 0.30 Time: 0.78 Epsilon: 1.00\n",
      "Episode 1000 Average score: 0.05 Min: -0.00 Max: 0.30 Time: 0.38 Epsilon: 1.00\n",
      "Episode 1050 Average score: 0.04 Min: -0.00 Max: 0.30 Time: 0.40 Epsilon: 1.00\n",
      "Episode 1100 Average score: 0.03 Min: -0.00 Max: 0.30 Time: 0.28 Epsilon: 1.00\n",
      "Episode 1150 Average score: 0.03 Min: -0.00 Max: 0.30 Time: 0.14 Epsilon: 1.00\n",
      "Episode 1200 Average score: 0.04 Min: -0.00 Max: 0.30 Time: 0.25 Epsilon: 1.00\n",
      "Episode 1250 Average score: 0.06 Min: -0.00 Max: 0.30 Time: 0.81 Epsilon: 1.00\n",
      "Episode 1300 Average score: 0.07 Min: -0.00 Max: 0.30 Time: 0.14 Epsilon: 1.00\n",
      "Episode 1350 Average score: 0.06 Min: -0.00 Max: 0.30 Time: 0.68 Epsilon: 1.00\n",
      "Episode 1400 Average score: 0.06 Min: -0.00 Max: 0.30 Time: 0.14 Epsilon: 1.00\n",
      "Episode 1450 Average score: 0.04 Min: -0.00 Max: 0.30 Time: 0.42 Epsilon: 1.00\n",
      "Episode 1500 Average score: 0.03 Min: -0.00 Max: 0.30 Time: 0.79 Epsilon: 1.00\n",
      "Episode 1550 Average score: 0.06 Min: -0.00 Max: 0.30 Time: 0.97 Epsilon: 1.00\n",
      "Episode 1600 Average score: 0.10 Min: -0.00 Max: 0.35 Time: 0.97 Epsilon: 1.00\n",
      "Episode 1650 Average score: 0.11 Min: -0.00 Max: 0.45 Time: 1.98 Epsilon: 1.00\n",
      "Episode 1700 Average score: 0.10 Min: -0.00 Max: 0.55 Time: 1.28 Epsilon: 1.00\n",
      "Episode 1750 Average score: 0.11 Min: -0.00 Max: 0.55 Time: 4.16 Epsilon: 1.00\n",
      "Episode 1800 Average score: 0.13 Min: -0.00 Max: 0.55 Time: 1.01 Epsilon: 1.00\n",
      "Episode 1850 Average score: 0.21 Min: -0.00 Max: 2.45 Time: 4.01 Epsilon: 1.00\n",
      "Episode 1900 Average score: 0.30 Min: -0.00 Max: 2.45 Time: 4.14 Epsilon: 1.00\n",
      "Episode 1950 Average score: 0.31 Min: -0.00 Max: 2.45 Time: 2.83 Epsilon: 1.00\n",
      "Episode 2000 Average score: 0.44 Min: -0.00 Max: 2.60 Time: 21.09 Epsilon: 1.00\n",
      "Episode 2050 Average score: 0.43 Min: -0.00 Max: 2.60 Time: 1.60 Epsilon: 1.00\n",
      "Episode 2100 Average score: 0.37 Min: -0.00 Max: 2.60 Time: 3.13 Epsilon: 1.00\n",
      "Episode 2150 Average score: 0.41 Min: -0.00 Max: 2.60 Time: 0.43 Epsilon: 1.00\n",
      "Episode 2200 Average score: 0.25 Min: -0.00 Max: 2.60 Time: 0.99 Epsilon: 1.00\n",
      "Episode 2250 Average score: 0.24 Min: -0.00 Max: 2.60 Time: 0.71 Epsilon: 1.00\n",
      "\n",
      "Solve in 2285 episodes. Average score: 0.51\n"
     ]
    }
   ],
   "source": [
    "rand_seed = 0\n",
    "agent = Agent(config=config,\n",
    "              state_size=state_size, \n",
    "              action_size=action_size, \n",
    "              num_agents=num_agents, \n",
    "              random_seed=rand_seed,\n",
    "              device=device)\n",
    "\n",
    "scores = ddpg(agent)"
   ]
  },
  {
   "cell_type": "code",
   "execution_count": 13,
   "metadata": {},
   "outputs": [
    {
     "data": {
      "image/png": "[encoded data removed]",
      "text/plain": [
       "<Figure size 432x288 with 1 Axes>"
      ]
     },
     "metadata": {
      "needs_background": "light"
     },
     "output_type": "display_data"
    }
   ],
   "source": [
    "fig = plt.figure()\n",
    "ax = fig.add_subplot(111)\n",
    "plt.plot(np.arange(len(scores)), scores)\n",
    "plt.ylabel('Score')\n",
    "plt.xlabel('Episode #')\n",
    "plt.savefig(\"images/plot.png\", format=\"png\")\n",
    "plt.show()"
   ]
  },
  {
   "cell_type": "code",
   "execution_count": 14,
   "metadata": {},
   "outputs": [
    {
     "name": "stderr",
     "output_type": "stream",
     "text": [
      "/home/oasilisk/.local/lib/python3.6/site-packages/torch/nn/functional.py:1558: UserWarning: nn.functional.tanh is deprecated. Use torch.tanh instead.\n",
      "  warnings.warn(\"nn.functional.tanh is deprecated. Use torch.tanh instead.\")\n"
     ]
    },
    {
     "name": "stdout",
     "output_type": "stream",
     "text": [
      "\n",
      "Solve in 1 episodes. Average score: 1.20\n"
     ]
    }
   ],
   "source": [
    "rand_seed = 0\n",
    "agent = Agent(config=config,\n",
    "              state_size=state_size, \n",
    "              action_size=action_size, \n",
    "              num_agents=num_agents, \n",
    "              random_seed=rand_seed,\n",
    "              device=torch.device('cpu'),\n",
    "              actor_trained_weight_filename=\"checkpoint_actor.pth\", \n",
    "              critic_trained_weight_filename=\"checkpoint_critic.pth\")\n",
    "\n",
    "scores = ddpg(agent, train_mode=False)"
   ]
  },
  {
   "cell_type": "code",
   "execution_count": 15,
   "metadata": {},
   "outputs": [],
   "source": [
    "env.close()"
   ]
  }
 ],
 "metadata": {
  "kernelspec": {
   "display_name": "Python 3",
   "language": "python",
   "name": "python3"
  },
  "language_info": {
   "codemirror_mode": {
    "name": "ipython",
    "version": 3
   },
   "file_extension": ".py",
   "mimetype": "text/x-python",
   "name": "python",
   "nbconvert_exporter": "python",
   "pygments_lexer": "ipython3",
   "version": "3.6.9"
  }
 },
 "nbformat": 4,
 "nbformat_minor": 2
}
